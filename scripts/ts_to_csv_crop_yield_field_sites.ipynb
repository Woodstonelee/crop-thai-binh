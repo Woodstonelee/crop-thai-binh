{
 "cells": [
  {
   "cell_type": "markdown",
   "metadata": {},
   "source": [
    "* Extract time-series data for field plots of crop yield harvest\n",
    "* Save the extracted time-series data into csv files"
   ]
  },
  {
   "cell_type": "code",
   "execution_count": 2,
   "metadata": {
    "collapsed": true
   },
   "outputs": [],
   "source": [
    "import os\n",
    "import sys\n",
    "import itertools\n",
    "import glob\n",
    "\n",
    "import numpy as np\n",
    "import pandas as pd"
   ]
  },
  {
   "cell_type": "code",
   "execution_count": 3,
   "metadata": {
    "collapsed": false
   },
   "outputs": [
    {
     "data": {
      "text/html": [
       "<script>requirejs.config({paths: { 'plotly': ['https://cdn.plot.ly/plotly-latest.min']},});if(!window.Plotly) {{require(['plotly'],function(plotly) {window.Plotly=plotly;});}}</script>"
      ],
      "text/plain": [
       "<IPython.core.display.HTML object>"
      ]
     },
     "metadata": {},
     "output_type": "display_data"
    }
   ],
   "source": [
    "import geo_ts as gt"
   ]
  },
  {
   "cell_type": "code",
   "execution_count": 3,
   "metadata": {
    "collapsed": true
   },
   "outputs": [],
   "source": [
    "# output csv file name\n",
    "var_names = ['ndvi', 'evi', 'blue', 'green', 'red', 'nir', 'swir1', 'swir2']\n",
    "csv_files = ['../results/thai_binh_field_subp_ts_{0:s}_fuse_at.csv'.format(varn) for varn in var_names]\n",
    "# ts_ndvi_fuse_at_csv_file = \"../results/thai_binh_field_subplots_ts_ndvi_fuse_at.csv\"\n",
    "# ts_evi_fuse_at_csv_file = \"../results/thai_binh_field_subplots_ts_ndvi_fuse_at.csv\""
   ]
  },
  {
   "cell_type": "markdown",
   "metadata": {},
   "source": [
    "## Read field data of crop yield"
   ]
  },
  {
   "cell_type": "code",
   "execution_count": 4,
   "metadata": {
    "collapsed": true
   },
   "outputs": [],
   "source": [
    "crop_yield_field_file = \"/projectnb/echidna/lidar/zhanli86/workspace/data/projects/kaiyu-adb-crop/vietnam-field/Thai_Binh_select_variables_crop_cutting.xlsx\"\n",
    "cls_map_file = \"/projectnb/echidna/lidar/zhanli86/workspace/data/projects/kaiyu-adb-crop/vietnam-cls/vietnam_thai_bin_cls_rf_lsat_scenes.img\"\n",
    "\n",
    "crop_yield_field = pd.read_excel(crop_yield_field_file, sheetname=0, \\\n",
    "                                 index_col=2)\n",
    "\n",
    "colname = crop_yield_field.columns.values\n",
    "colname[2] = \"lat_m\" # mesh lat\n",
    "colname[3] = \"lon_m\" # mesh lon\n",
    "colname[4] = \"lat_s\" # subplot lat\n",
    "colname[5] = \"lon_s\" # subplot lon\n",
    "colname[7] = \"yield_field\" # field measured yield\n",
    "crop_yield_field.columns = colname\n",
    "\n",
    "geo_points = pd.DataFrame(np.zeros((len(crop_yield_field), 2)), index=crop_yield_field.index, columns=['lon', 'lat'])\n",
    "geo_points.loc[:, 'lat'] = crop_yield_field.loc[:, 'lat_s']\n",
    "geo_points.loc[:, 'lon'] = crop_yield_field.loc[:, 'lon_s']\n",
    "\n",
    "proj_points = pd.DataFrame(np.zeros((len(geo_points), 2)), index=geo_points.index, columns=['x', 'y'])\n",
    "for k in proj_points.index:\n",
    "    tmp = gt.geo2Proj(cls_map_file, geo_points.loc[k, 'lon'], geo_points.loc[k, 'lat'])\n",
    "    proj_points.loc[k, 'x'] = tmp[0]\n",
    "    proj_points.loc[k, 'y'] = tmp[1]\n",
    "    \n",
    "img_points = pd.DataFrame(np.zeros((len(geo_points), 2)), index=geo_points.index, columns=['sample', 'line'])\n",
    "for k in img_points.index:\n",
    "    tmp = gt.geo2Pixel(cls_map_file, geo_points.loc[k, 'lon'], geo_points.loc[k, 'lat'], ret_int=False)\n",
    "    img_points.loc[k, 'sample'] = tmp[0]\n",
    "    img_points.loc[k, 'line'] = tmp[1]\n",
    "\n",
    "subp_imgsize = 2.5/30\n",
    "img_points_ur = img_points.copy()\n",
    "img_points_ur.loc[:, 'sample'] = (img_points.loc[:, 'sample']+subp_imgsize).astype(int)\n",
    "img_points_ur.loc[:, 'line'] = (img_points.loc[:, 'line']-subp_imgsize).astype(int)\n",
    "\n",
    "img_points_ll = img_points.copy()\n",
    "img_points_ll.loc[:, 'sample'] = img_points.loc[:, 'sample'].astype(int)\n",
    "img_points_ll.loc[:, 'line'] = img_points.loc[:, 'line'].astype(int)\n",
    "\n",
    "img_points_ul = img_points.copy()\n",
    "img_points_ul.loc[:, 'sample'] = (img_points.loc[:, 'sample']).astype(int)\n",
    "img_points_ul.loc[:, 'line'] = (img_points.loc[:, 'line']-subp_imgsize).astype(int)\n",
    "\n",
    "img_points_lr = img_points.copy()\n",
    "img_points_lr.loc[:, 'sample'] = (img_points.loc[:, 'sample']+subp_imgsize).astype(int)\n",
    "img_points_lr.loc[:, 'line'] = (img_points.loc[:, 'line']).astype(int)\n",
    "\n",
    "img_points_ctr = img_points.copy()\n",
    "img_points_ctr.loc[:, 'sample'] = (img_points.loc[:, 'sample']+0.5*subp_imgsize).astype(int)\n",
    "img_points_ctr.loc[:, 'line'] = (img_points.loc[:, 'line']-0.5*subp_imgsize).astype(int)"
   ]
  },
  {
   "cell_type": "markdown",
   "metadata": {},
   "source": [
    "## Select field subplots falling into our image extent"
   ]
  },
  {
   "cell_type": "code",
   "execution_count": 5,
   "metadata": {
    "collapsed": true
   },
   "outputs": [],
   "source": [
    "cls_map_meta = gt.getRasterMetaGdal(cls_map_file)\n",
    "\n",
    "ncols = cls_map_meta['RasterXSize']\n",
    "nrows = cls_map_meta['RasterYSize']\n",
    "\n",
    "in_subp_flag = reduce(np.logical_and, (img_points_ur.loc[:, 'sample']>=0, img_points_ur.loc[:, 'sample']<ncols, \\\n",
    "                                       img_points_ur.loc[:, 'line']>=0, img_points_ur.loc[:, 'line']<nrows, \\\n",
    "                                       img_points_ll.loc[:, 'sample']>=0, img_points_ll.loc[:, 'sample']<ncols, \\\n",
    "                                       img_points_ll.loc[:, 'line']>=0, img_points_ll.loc[:, 'line']<nrows))\n",
    "print crop_yield_field.loc[np.logical_not(in_subp_flag), :]\n",
    "\n",
    "crop_yield_field = crop_yield_field.loc[in_subp_flag, :]\n",
    "\n",
    "geo_points = geo_points.loc[in_subp_flag, :]\n",
    "proj_points = proj_points.loc[in_subp_flag, :]\n",
    "img_points = img_points.loc[in_subp_flag, :]\n",
    "img_points_ur = img_points_ur.loc[in_subp_flag, :]\n",
    "img_points_ll = img_points_ll.loc[in_subp_flag, :]\n",
    "img_points_ul = img_points_ur.loc[in_subp_flag, :]\n",
    "img_points_lr = img_points_ll.loc[in_subp_flag, :]\n",
    "img_points_ctr = img_points_ctr.loc[in_subp_flag, :]\n",
    "\n",
    "single_pix_subp_flag = np.logical_and(img_points_ur.loc[:, 'sample']==img_points_ll.loc[:, 'sample'], \\\n",
    "                                      img_points_ur.loc[:, 'line']==img_points_ll.loc[:, 'line'])"
   ]
  },
  {
   "cell_type": "markdown",
   "metadata": {},
   "source": [
    "## Read time series data of field subplots and write to csv"
   ]
  },
  {
   "cell_type": "code",
   "execution_count": 11,
   "metadata": {
    "collapsed": true
   },
   "outputs": [],
   "source": [
    "# # new fusion data by combining both Aqua and Terra\n",
    "# ts_ndvi_fused_new_files = glob.glob(\"/projectnb/echidna/lidar/zhanli86/workspace/data/projects/kaiyu-adb-crop/vietnam-fusion-ts-new/aqua-and-terra/plndsr_500.126046.2015[0-9][0-9][0-9].ndvi.bin\") \\\n",
    "#                           + glob.glob(\"/projectnb/echidna/lidar/zhanli86/workspace/data/projects/kaiyu-adb-crop/vietnam-fusion-ts-new/aqua-and-terra/psub_lndsr.126046.2015[0-9][0-9][0-9].ndvi.bin\")\n",
    "# ts_ndvi_fused_new_files = np.array(ts_ndvi_fused_new_files)\n",
    "# ts_ndvi_fused_new_doy = np.array([int(imgf.split(\".\")[2][-3:]) for imgf in ts_ndvi_fused_new_files])\n",
    "# tmp, cnt = np.unique(ts_ndvi_fused_new_doy, return_counts=True)\n",
    "# tmp_flag = np.ones(len(ts_ndvi_fused_new_files), dtype=np.bool_)\n",
    "# nonfuse_flag = np.zeros(len(ts_ndvi_fused_new_files), dtype=np.bool_)\n",
    "# for d in tmp[cnt>1]:\n",
    "#     tmp_ind = np.where(ts_ndvi_fused_new_files == \"/projectnb/echidna/lidar/zhanli86/workspace/data/projects/kaiyu-adb-crop/vietnam-fusion-ts-new/aqua-and-terra/plndsr_500.126046.2015{0:03d}.ndvi.bin\".format(d))[0]\n",
    "#     tmp_flag[tmp_ind] = False\n",
    "#     tmp_ind = np.where(ts_ndvi_fused_new_files == \"/projectnb/echidna/lidar/zhanli86/workspace/data/projects/kaiyu-adb-crop/vietnam-fusion-ts-new/aqua-and-terra/psub_lndsr.126046.2015{0:03d}.ndvi.bin\".format(d))[0]\n",
    "#     nonfuse_flag[tmp_ind] = True\n",
    "# nonfuse_doy = np.array([int(imgf.split(\".\")[2][-3:]) for imgf in ts_ndvi_fused_new_files[nonfuse_flag]])\n",
    "# ts_ndvi_fused_new_files = ts_ndvi_fused_new_files[tmp_flag]\n",
    "\n",
    "# fnames, tmp = gt.getTsFromImgs(ts_ndvi_fused_new_files, img_points_ctr.loc[:, 'sample'], img_points_ctr.loc[:, 'line'])\n",
    "# ts_ndvi_fused_new_doy = np.array([int(imgf.split(\".\")[2][-3:]) for imgf in fnames])\n",
    "# ts_ndvi_fused_new_data = pd.DataFrame(tmp, columns=ts_ndvi_fused_new_doy, index=img_points_ctr.index)\n",
    "# # sort the data points according to doy\n",
    "# sort_ind = np.argsort(ts_ndvi_fused_new_doy)\n",
    "# ts_ndvi_fused_new_data = ts_ndvi_fused_new_data.reindex_axis(ts_ndvi_fused_new_data.columns[sort_ind], axis='columns', copy=False)\n",
    "# ts_ndvi_fused_new_doy = ts_ndvi_fused_new_doy[sort_ind]"
   ]
  },
  {
   "cell_type": "code",
   "execution_count": 12,
   "metadata": {
    "collapsed": true
   },
   "outputs": [],
   "source": [
    "fuse_file_prefix = \"/projectnb/echidna/lidar/zhanli86/workspace/data/projects/kaiyu-adb-crop/vietnam-fusion-ts-new/aqua-and-terra/plndsr_500.126046.2015[0-9][0-9][0-9].\"\n",
    "fuse_file_suffix = \".bin\"\n",
    "obs_file_prefix = \"/projectnb/echidna/lidar/zhanli86/workspace/data/projects/kaiyu-adb-crop/vietnam-fusion-ts-new/aqua-and-terra/sub_lndsr.126046.2015[0-9][0-9][0-9].\"\n",
    "obs_file_suffix = \".bin\"\n",
    "\n",
    "ts_files_list = [glob.glob(\"{0:s}{1:s}{2:s}\".format(fuse_file_prefix, varn, fuse_file_suffix)) \\\n",
    "                 + glob.glob(\"{0:s}{1:s}{2:s}\".format(obs_file_prefix, varn, obs_file_suffix)) \\\n",
    "                 for varn in var_names]\n",
    "\n",
    "doy_func_list = [lambda fstr: int(fstr.split(\".\")[2][-3:]) for varn in var_names]"
   ]
  },
  {
   "cell_type": "code",
   "execution_count": 13,
   "metadata": {
    "collapsed": true
   },
   "outputs": [],
   "source": [
    "def ts_files_to_df(file_list, doy_func, img_points):\n",
    "    file_list = np.array(file_list)    \n",
    "\n",
    "    # flag to indicate this is an actual landsat observation rather than fusion results\n",
    "    obs_flag = np.array([fstr.find('sub_lndsr')>-1 for fstr in file_list])\n",
    "    # first level index to indicate actual observation or fusion\n",
    "    first_colname = np.array(['fuse' for fstr in file_list])\n",
    "    first_colname[obs_flag] = 'obs'\n",
    "    ts_doy = np.array([doy_func(fstr) for fstr in file_list])\n",
    "    colname_tuples = list(zip(*[first_colname, ts_doy]))\n",
    "    ts_mlevel_colname = pd.MultiIndex.from_tuples(colname_tuples, names=['type', 'doy'])\n",
    "\n",
    "    fnames, tmp = gt.getTsFromImgs(file_list, img_points.loc[:, 'sample'], img_points.loc[:, 'line'])\n",
    "    ts_data = pd.DataFrame(tmp, columns=ts_mlevel_colname, index=img_points.index)\n",
    "    return ts_data"
   ]
  },
  {
   "cell_type": "code",
   "execution_count": 14,
   "metadata": {
    "collapsed": false
   },
   "outputs": [],
   "source": [
    "_ = [ts_files_to_df(ts_files, doy_func, img_points_ctr).to_csv(csvf) for ts_files, doy_func, csvf in itertools.izip(ts_files_list, doy_func_list, csv_files)]"
   ]
  },
  {
   "cell_type": "code",
   "execution_count": 8,
   "metadata": {
    "collapsed": false
   },
   "outputs": [],
   "source": [
    "# time series file by fusion of Landsat and MODIS BEFORE TIMESAT smoothing\n",
    "ts_ndvi_fused_file = \"/projectnb/echidna/lidar/zhanli86/workspace/data/projects/kaiyu-adb-crop/vietnam-fusion-ts/predicted_NDVI\"\n",
    "# time series data by SG filter of TIMESAT to the fused data\n",
    "fitsg_ndvi_imgfiles = glob.glob(\"/projectnb/echidna/lidar/zhanli86/workspace/data/projects/kaiyu-adb-crop/vietnam-ts-sg/fitSG_NDVI_126046.2015[0-9][0-9][0-9]\")"
   ]
  },
  {
   "cell_type": "code",
   "execution_count": 10,
   "metadata": {
    "collapsed": false
   },
   "outputs": [],
   "source": [
    "fnames, tmp = gt.getTsFromImgs(fitsg_ndvi_imgfiles, img_points_ctr.loc[:, 'sample'], img_points_ctr.loc[:, 'line'])\n",
    "sg_ndvi_doy = np.array([int(imgf.split(\".\")[1][4:]) for imgf in fnames])\n",
    "first_colname = np.array(['fit' for fstr in fnames])\n",
    "colname_tuples = list(zip(*[first_colname, sg_ndvi_doy]))\n",
    "ts_mlevel_colname = pd.MultiIndex.from_tuples(colname_tuples, names=['type', 'doy'])\n",
    "ts_sg_ndvi = pd.DataFrame(tmp, columns=ts_mlevel_colname, index=img_points_ctr.index)"
   ]
  },
  {
   "cell_type": "code",
   "execution_count": 16,
   "metadata": {
    "collapsed": true
   },
   "outputs": [],
   "source": [
    "tmp = gt.readPixelsGdal(ts_ndvi_fused_file, img_points_ctr.loc[:, 'sample'], img_points_ctr.loc[:, 'line'])\n",
    "ts_ndvi_fused_doy = np.arange(tmp.shape[1])+1\n",
    "first_colname = np.array(['fuse' for fstr in ts_ndvi_fused_doy])\n",
    "colname_tuples = list(zip(*[first_colname, ts_ndvi_fused_doy]))\n",
    "ts_mlevel_colname = pd.MultiIndex.from_tuples(colname_tuples, names=['type', 'doy'])\n",
    "ts_ndvi_fused = pd.DataFrame(tmp, columns=ts_mlevel_colname, index=img_points_ctr.index)"
   ]
  },
  {
   "cell_type": "code",
   "execution_count": 17,
   "metadata": {
    "collapsed": false
   },
   "outputs": [],
   "source": [
    "ts_sg_ndvi.to_csv('../results/thai_binh_field_subp_ts_ndvi_sg.csv')\n",
    "\n",
    "ts_ndvi_fused.to_csv('../results/thai_binh_field_subp_ts_ndvi_fuse_terra.csv')"
   ]
  },
  {
   "cell_type": "code",
   "execution_count": null,
   "metadata": {
    "collapsed": true
   },
   "outputs": [],
   "source": []
  }
 ],
 "metadata": {
  "kernelspec": {
   "display_name": "Python 2",
   "language": "python",
   "name": "python2"
  },
  "language_info": {
   "codemirror_mode": {
    "name": "ipython",
    "version": 2
   },
   "file_extension": ".py",
   "mimetype": "text/x-python",
   "name": "python",
   "nbconvert_exporter": "python",
   "pygments_lexer": "ipython2",
   "version": "2.7.12"
  }
 },
 "nbformat": 4,
 "nbformat_minor": 0
}
